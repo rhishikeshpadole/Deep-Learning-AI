{
 "cells": [
  {
   "cell_type": "markdown",
   "metadata": {},
   "source": [
    "## Classification demo including training"
   ]
  },
  {
   "cell_type": "code",
   "execution_count": 1,
   "metadata": {},
   "outputs": [
    {
     "name": "stderr",
     "output_type": "stream",
     "text": [
      "Using TensorFlow backend.\n"
     ]
    }
   ],
   "source": [
    "##Import libraries\n",
    "from keras.models import Sequential\n",
    "from keras.layers import Convolution2D\n",
    "from keras.layers import MaxPooling2D\n",
    "from keras.layers import Flatten\n",
    "from keras.layers import Dense"
   ]
  },
  {
   "cell_type": "code",
   "execution_count": 2,
   "metadata": {},
   "outputs": [],
   "source": [
    "## Initialising the CNN\n",
    "classifier = Sequential()"
   ]
  },
  {
   "cell_type": "code",
   "execution_count": 3,
   "metadata": {},
   "outputs": [
    {
     "name": "stderr",
     "output_type": "stream",
     "text": [
      "C:\\Users\\Rhishikesh Padole\\AppData\\Local\\conda\\conda\\envs\\tensorenviron\\lib\\site-packages\\ipykernel_launcher.py:2: UserWarning: Update your `Conv2D` call to the Keras 2 API: `Conv2D(64, (3, 3), input_shape=(128, 128,..., activation=\"relu\")`\n",
      "  \n",
      "C:\\Users\\Rhishikesh Padole\\AppData\\Local\\conda\\conda\\envs\\tensorenviron\\lib\\site-packages\\ipykernel_launcher.py:8: UserWarning: Update your `Conv2D` call to the Keras 2 API: `Conv2D(64, (3, 3), activation=\"relu\")`\n",
      "  \n",
      "C:\\Users\\Rhishikesh Padole\\AppData\\Local\\conda\\conda\\envs\\tensorenviron\\lib\\site-packages\\ipykernel_launcher.py:12: UserWarning: Update your `Conv2D` call to the Keras 2 API: `Conv2D(64, (3, 3), activation=\"relu\")`\n",
      "  if sys.path[0] == '':\n",
      "C:\\Users\\Rhishikesh Padole\\AppData\\Local\\conda\\conda\\envs\\tensorenviron\\lib\\site-packages\\ipykernel_launcher.py:15: UserWarning: Update your `Conv2D` call to the Keras 2 API: `Conv2D(64, (3, 3), activation=\"relu\")`\n",
      "  from ipykernel import kernelapp as app\n",
      "C:\\Users\\Rhishikesh Padole\\AppData\\Local\\conda\\conda\\envs\\tensorenviron\\lib\\site-packages\\ipykernel_launcher.py:18: UserWarning: Update your `Conv2D` call to the Keras 2 API: `Conv2D(64, (3, 3), activation=\"relu\")`\n"
     ]
    }
   ],
   "source": [
    "## Convolution(64 feature detector of dimension 3 by 3), input shape 3 layer for color image)\n",
    "classifier.add(Convolution2D(64,3,3,input_shape = (128,128,3), activation = 'relu')) #64 kernels of shape 3*3, second 64,64,3 we have taken bcz 3 is RGB color photo\n",
    "\n",
    "## MaxPooling\n",
    "classifier.add(MaxPooling2D(pool_size = (2,2))) #make 2*2 matrix and select max element, see slide\n",
    "\n",
    "## Add another layer\n",
    "classifier.add(Convolution2D(64,3,3, activation = 'relu'))\n",
    "classifier.add(MaxPooling2D(pool_size = (2,2)))\n",
    "\n",
    "## Add another layer\n",
    "classifier.add(Convolution2D(64,3,3, activation = 'relu'))\n",
    "classifier.add(MaxPooling2D(pool_size = (2,2)))\n",
    "\n",
    "classifier.add(Convolution2D(64,3,3, activation = 'relu'))\n",
    "classifier.add(MaxPooling2D(pool_size = (2,2)))\n",
    "\n",
    "classifier.add(Convolution2D(64,3,3, activation = 'relu'))\n",
    "classifier.add(MaxPooling2D(pool_size = (2,2)))\n",
    "\n"
   ]
  },
  {
   "cell_type": "code",
   "execution_count": 4,
   "metadata": {},
   "outputs": [],
   "source": [
    "## Flattening\n",
    "classifier.add(Flatten())"
   ]
  },
  {
   "cell_type": "code",
   "execution_count": 5,
   "metadata": {},
   "outputs": [
    {
     "name": "stderr",
     "output_type": "stream",
     "text": [
      "C:\\Users\\Rhishikesh Padole\\AppData\\Local\\conda\\conda\\envs\\tensorenviron\\lib\\site-packages\\ipykernel_launcher.py:2: UserWarning: Update your `Dense` call to the Keras 2 API: `Dense(activation=\"relu\", units=128)`\n",
      "  \n",
      "C:\\Users\\Rhishikesh Padole\\AppData\\Local\\conda\\conda\\envs\\tensorenviron\\lib\\site-packages\\ipykernel_launcher.py:3: UserWarning: Update your `Dense` call to the Keras 2 API: `Dense(activation=\"sigmoid\", units=1)`\n",
      "  This is separate from the ipykernel package so we can avoid doing imports until\n"
     ]
    }
   ],
   "source": [
    "## Fully connected ANN, Hidden ANN and output layer\n",
    "classifier.add(Dense(output_dim = 128, activation = 'relu'))\n",
    "classifier.add(Dense(output_dim = 1, activation = 'sigmoid')) "
   ]
  },
  {
   "cell_type": "code",
   "execution_count": 6,
   "metadata": {},
   "outputs": [],
   "source": [
    "## Compliling,\n",
    "classifier.compile(optimizer = 'adam', loss = 'binary_crossentropy', metrics = ['accuracy'])"
   ]
  },
  {
   "cell_type": "code",
   "execution_count": 7,
   "metadata": {},
   "outputs": [],
   "source": [
    "## data importing and transforming and scaling\n",
    "\n",
    "#see different parameters which we can give\n",
    "from keras.preprocessing.image import ImageDataGenerator\n",
    "train_datagen = ImageDataGenerator(\n",
    "        rescale=1./255,\n",
    "        shear_range=0.2,\n",
    "        zoom_range=0.2,\n",
    "        horizontal_flip=True)"
   ]
  },
  {
   "cell_type": "code",
   "execution_count": 8,
   "metadata": {},
   "outputs": [],
   "source": [
    "## Scaling test data\n",
    "test_datagen = ImageDataGenerator(rescale=1./255)"
   ]
  },
  {
   "cell_type": "code",
   "execution_count": 9,
   "metadata": {},
   "outputs": [
    {
     "name": "stdout",
     "output_type": "stream",
     "text": [
      "Found 694 images belonging to 2 classes.\n"
     ]
    }
   ],
   "source": [
    "## Importing training data\n",
    "train_set = train_datagen.flow_from_directory('D:/Lung_Cancer_AI/Train_1/',\n",
    "                                               target_size=(128, 128),\n",
    "                                               batch_size= 25,\n",
    "                                               class_mode='binary')"
   ]
  },
  {
   "cell_type": "code",
   "execution_count": 10,
   "metadata": {},
   "outputs": [
    {
     "name": "stdout",
     "output_type": "stream",
     "text": [
      "{'Malign': 0, 'Non_Malign': 1}\n"
     ]
    }
   ],
   "source": [
    "#which is cat which is dog?\n",
    "label_map = (train_set.class_indices)\n",
    "print(label_map)"
   ]
  },
  {
   "cell_type": "code",
   "execution_count": 11,
   "metadata": {},
   "outputs": [
    {
     "name": "stdout",
     "output_type": "stream",
     "text": [
      "Found 219 images belonging to 2 classes.\n"
     ]
    }
   ],
   "source": [
    "## Importng test data\n",
    "test_set = test_datagen.flow_from_directory('D:/Lung_Cancer_AI/Test_1/',\n",
    "                                            target_size=(128, 128),\n",
    "                                            batch_size= 4,\n",
    "                                            class_mode='binary')"
   ]
  },
  {
   "cell_type": "code",
   "execution_count": 12,
   "metadata": {},
   "outputs": [
    {
     "name": "stdout",
     "output_type": "stream",
     "text": [
      "Epoch 1/15\n",
      "100/100 [==============================] - 125s 1s/step - loss: 0.6897 - acc: 0.5553 - val_loss: 0.6890 - val_acc: 0.5670\n",
      "Epoch 2/15\n",
      "100/100 [==============================] - 101s 1s/step - loss: 0.6810 - acc: 0.5687 - val_loss: 0.6827 - val_acc: 0.5436\n",
      "Epoch 3/15\n",
      "100/100 [==============================] - 92s 923ms/step - loss: 0.6730 - acc: 0.5811 - val_loss: 0.6681 - val_acc: 0.5952\n",
      "Epoch 4/15\n",
      "100/100 [==============================] - 92s 924ms/step - loss: 0.6559 - acc: 0.6073 - val_loss: 0.6521 - val_acc: 0.6181\n",
      "Epoch 5/15\n",
      "100/100 [==============================] - 90s 899ms/step - loss: 0.6083 - acc: 0.6704 - val_loss: 0.6270 - val_acc: 0.6697\n",
      "Epoch 6/15\n",
      "100/100 [==============================] - 90s 897ms/step - loss: 0.5583 - acc: 0.7175 - val_loss: 0.6635 - val_acc: 0.6800\n",
      "Epoch 7/15\n",
      "100/100 [==============================] - 86s 864ms/step - loss: 0.5068 - acc: 0.7504 - val_loss: 0.5667 - val_acc: 0.6961\n",
      "Epoch 8/15\n",
      "100/100 [==============================] - 90s 901ms/step - loss: 0.4542 - acc: 0.7873 - val_loss: 0.4986 - val_acc: 0.7328\n",
      "Epoch 9/15\n",
      "100/100 [==============================] - 126s 1s/step - loss: 0.4182 - acc: 0.8102 - val_loss: 0.4358 - val_acc: 0.8177\n",
      "Epoch 10/15\n",
      "100/100 [==============================] - 127s 1s/step - loss: 0.3468 - acc: 0.8490 - val_loss: 0.6488 - val_acc: 0.7454\n",
      "Epoch 11/15\n",
      "100/100 [==============================] - 127s 1s/step - loss: 0.3222 - acc: 0.8617 - val_loss: 0.3415 - val_acc: 0.8280\n",
      "Epoch 12/15\n",
      "100/100 [==============================] - 122s 1s/step - loss: 0.2938 - acc: 0.8606 - val_loss: 0.3691 - val_acc: 0.8303\n",
      "Epoch 13/15\n",
      "100/100 [==============================] - 126s 1s/step - loss: 0.2675 - acc: 0.8903 - val_loss: 0.2865 - val_acc: 0.8796\n",
      "Epoch 14/15\n",
      "100/100 [==============================] - 126s 1s/step - loss: 0.2357 - acc: 0.9014 - val_loss: 0.3099 - val_acc: 0.8532\n",
      "Epoch 15/15\n",
      "100/100 [==============================] - 127s 1s/step - loss: 0.2201 - acc: 0.9133 - val_loss: 0.2246 - val_acc: 0.8865\n"
     ]
    },
    {
     "data": {
      "text/plain": [
       "<keras.callbacks.History at 0x2994e61e518>"
      ]
     },
     "execution_count": 12,
     "metadata": {},
     "output_type": "execute_result"
    }
   ],
   "source": [
    "## fitting model to images\n",
    "classifier.fit_generator(\n",
    "        train_set,\n",
    "        steps_per_epoch= 100,\n",
    "        epochs= 15,\n",
    "        validation_data=test_set,\n",
    "        validation_steps= 219)"
   ]
  },
  {
   "cell_type": "markdown",
   "metadata": {},
   "source": [
    "# Prediction of single new data"
   ]
  },
  {
   "cell_type": "code",
   "execution_count": 19,
   "metadata": {},
   "outputs": [],
   "source": [
    "## prediction of single new data\n",
    "import numpy as np\n",
    "from keras.preprocessing import image\n",
    "test_image= image.load_img('D:/Lung_Cancer_AI/Validation/Malign/2800002.jpg'\n",
    "                           ,target_size =(128,128))\n"
   ]
  },
  {
   "cell_type": "code",
   "execution_count": 20,
   "metadata": {},
   "outputs": [
    {
     "data": {
      "image/png": "[encoded data removed]",
      "text/plain": [
       "<PIL.Image.Image image mode=RGB size=128x128 at 0x2994E61EA58>"
      ]
     },
     "execution_count": 20,
     "metadata": {},
     "output_type": "execute_result"
    }
   ],
   "source": [
    "test_image"
   ]
  },
  {
   "cell_type": "code",
   "execution_count": 21,
   "metadata": {},
   "outputs": [],
   "source": [
    "## Convert image to array\n",
    "test_image = image.img_to_array(test_image)"
   ]
  },
  {
   "cell_type": "code",
   "execution_count": 22,
   "metadata": {},
   "outputs": [],
   "source": [
    "## For single prediction change the dimension using axis. To remove problem of batch\n",
    "test_image = np.expand_dims(test_image,axis = 0)\n",
    "result = classifier.predict(test_image)"
   ]
  },
  {
   "cell_type": "code",
   "execution_count": 23,
   "metadata": {},
   "outputs": [],
   "source": [
    "## Class of dog and cat, see 10 for labels\n",
    "\n",
    "if result[0][0] == 0:\n",
    "    prediction = 'malign'\n",
    "else:\n",
    "    prediction = 'non malign'\n",
    "    "
   ]
  },
  {
   "cell_type": "code",
   "execution_count": 24,
   "metadata": {},
   "outputs": [
    {
     "data": {
      "text/plain": [
       "'malign'"
      ]
     },
     "execution_count": 24,
     "metadata": {},
     "output_type": "execute_result"
    }
   ],
   "source": [
    "prediction"
   ]
  },
  {
   "cell_type": "code",
   "execution_count": null,
   "metadata": {},
   "outputs": [],
   "source": [
    "\n",
    "\n",
    "\n"
   ]
  },
  {
   "cell_type": "code",
   "execution_count": null,
   "metadata": {},
   "outputs": [],
   "source": []
  },
  {
   "cell_type": "code",
   "execution_count": null,
   "metadata": {},
   "outputs": [],
   "source": []
  }
 ],
 "metadata": {
  "kernelspec": {
   "display_name": "Python 3",
   "language": "python",
   "name": "python3"
  },
  "language_info": {
   "codemirror_mode": {
    "name": "ipython",
    "version": 3
   },
   "file_extension": ".py",
   "mimetype": "text/x-python",
   "name": "python",
   "nbconvert_exporter": "python",
   "pygments_lexer": "ipython3",
   "version": "3.6.8"
  }
 },
 "nbformat": 4,
 "nbformat_minor": 2
}
